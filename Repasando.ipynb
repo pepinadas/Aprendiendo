{
  "nbformat": 4,
  "nbformat_minor": 0,
  "metadata": {
    "colab": {
      "name": "Untitled0.ipynb",
      "provenance": [],
      "authorship_tag": "ABX9TyPX8TYUNcr/RQSoLfcKXwEE",
      "include_colab_link": true
    },
    "kernelspec": {
      "name": "python3",
      "display_name": "Python 3"
    },
    "language_info": {
      "name": "python"
    }
  },
  "cells": [
    {
      "cell_type": "markdown",
      "metadata": {
        "id": "view-in-github",
        "colab_type": "text"
      },
      "source": [
        "<a href=\"https://colab.research.google.com/github/pepinadas/Aprendiendo/blob/master/Repasando.ipynb\" target=\"_parent\"><img src=\"https://colab.research.google.com/assets/colab-badge.svg\" alt=\"Open In Colab\"/></a>"
      ]
    },
    {
      "cell_type": "code",
      "metadata": {
        "colab": {
          "base_uri": "https://localhost:8080/"
        },
        "id": "tSu4WELYQjG2",
        "outputId": "4fe933fb-6e25-49d2-9917-baf073484566"
      },
      "source": [
        "N = input(\"Escribir ¡Hola Mundo!\")\n",
        "print(N)"
      ],
      "execution_count": 1,
      "outputs": [
        {
          "output_type": "stream",
          "text": [
            "Escribir ¡Hola Mundo!Hola mundo\n",
            "Hola mundo\n"
          ],
          "name": "stdout"
        }
      ]
    },
    {
      "cell_type": "code",
      "metadata": {
        "colab": {
          "base_uri": "https://localhost:8080/"
        },
        "id": "A0nmIjc2QxE9",
        "outputId": "265f60c6-5b05-4dc3-fa8f-01699700c624"
      },
      "source": [
        "print(\"El resultado de la operacion (3+2/2*5)^2 es\")\n",
        "print(\"\",((3+2)/(2*5)**2))"
      ],
      "execution_count": 3,
      "outputs": [
        {
          "output_type": "stream",
          "text": [
            "El resultado de la operacion (3+2/2*5)^2 es\n",
            " 0.05\n"
          ],
          "name": "stdout"
        }
      ]
    },
    {
      "cell_type": "code",
      "metadata": {
        "colab": {
          "base_uri": "https://localhost:8080/"
        },
        "id": "EDaWoslSRJfK",
        "outputId": "cbaacdd2-29ef-45e7-b982-fd37e780dd11"
      },
      "source": [
        "#Escribir un programa que pida al usuario una palabra y la muestre por pantalla 10 veces.\n",
        "Palabra = input(\"Colocar palabra\")\n",
        "N = 0\n",
        "while (N<=9):\n",
        "  print(Palabra)\n",
        "  N = N+1\n"
      ],
      "execution_count": 9,
      "outputs": [
        {
          "output_type": "stream",
          "text": [
            "Colocar palabraholo\n",
            "holo\n",
            "holo\n",
            "holo\n",
            "holo\n",
            "holo\n",
            "holo\n",
            "holo\n",
            "holo\n",
            "holo\n",
            "holo\n"
          ],
          "name": "stdout"
        }
      ]
    },
    {
      "cell_type": "code",
      "metadata": {
        "colab": {
          "base_uri": "https://localhost:8080/"
        },
        "id": "13HdrpkrRuUR",
        "outputId": "52d57e72-edae-4f75-9831-0ca22a066dc9"
      },
      "source": [
        "#Escribir un programa que pregunte al usuario una cantidad a invertir, \n",
        "#el interés anual y el número de años, y muestre por pantalla el capital \n",
        "#obtenido en la inversión cada año que dura la inversión.\n",
        "\n",
        "Cantidad = float(input(\"Colocar cantidad\"))\n",
        "Interes = float(input(\"Colocar interés\"))\n",
        "Años = int(input(\"Colocar Años\"))\n",
        "n = 0\n",
        "while Años>=0:\n",
        "  N = N + ((Cantidad*Interes)+Cantidad)\n",
        "  n = n+1\n",
        "  print(f\"Año {n} cantidad obtenida:\",N)\n",
        "\n",
        "  Años = Años-1\n"
      ],
      "execution_count": 11,
      "outputs": [
        {
          "output_type": "stream",
          "text": [
            "Colocar cantidad100\n",
            "Colocar interés.5\n",
            "Colocar Años10\n",
            "Año 1 cantidad obtenida: 310.0\n",
            "Año 2 cantidad obtenida: 460.0\n",
            "Año 3 cantidad obtenida: 610.0\n",
            "Año 4 cantidad obtenida: 760.0\n",
            "Año 5 cantidad obtenida: 910.0\n",
            "Año 6 cantidad obtenida: 1060.0\n",
            "Año 7 cantidad obtenida: 1210.0\n",
            "Año 8 cantidad obtenida: 1360.0\n",
            "Año 9 cantidad obtenida: 1510.0\n",
            "Año 10 cantidad obtenida: 1660.0\n",
            "Año 11 cantidad obtenida: 1810.0\n"
          ],
          "name": "stdout"
        }
      ]
    }
  ]
}